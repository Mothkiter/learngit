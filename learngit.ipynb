{
 "cells": [
  {
   "cell_type": "code",
   "execution_count": 1,
   "metadata": {},
   "outputs": [],
   "source": [
    "L = [1,2,3]\n",
    "T = (1,2,3)\n",
    "S = {\"wz\",1,2}\n",
    "D = {'person' :\"wz\", 'gender':\"male\"}"
   ]
  },
  {
   "cell_type": "code",
   "execution_count": 12,
   "metadata": {},
   "outputs": [
    {
     "name": "stdout",
     "output_type": "stream",
     "text": [
      "2\n"
     ]
    }
   ],
   "source": [
    "print(L[1])"
   ]
  },
  {
   "cell_type": "code",
   "execution_count": 25,
   "metadata": {},
   "outputs": [],
   "source": [
    "import sys\n",
    "sys.path.append(r'D:\\Wangzhen\\coding\\git\\class')\n",
    "import Person as p"
   ]
  },
  {
   "cell_type": "code",
   "execution_count": 28,
   "metadata": {},
   "outputs": [
    {
     "ename": "NameError",
     "evalue": "name 'bio' is not defined",
     "output_type": "error",
     "traceback": [
      "\u001b[1;31m---------------------------------------------------------------------------\u001b[0m",
      "\u001b[1;31mNameError\u001b[0m                                 Traceback (most recent call last)",
      "\u001b[1;32md:\\Wangzhen\\coding\\git\\learngit.ipynb Cell 4\u001b[0m in \u001b[0;36m<cell line: 1>\u001b[1;34m()\u001b[0m\n\u001b[1;32m----> <a href='vscode-notebook-cell:/d%3A/Wangzhen/coding/git/learngit.ipynb#W5sZmlsZQ%3D%3D?line=0'>1</a>\u001b[0m P \u001b[39m=\u001b[39m p\u001b[39m.\u001b[39;49mPerson(age\u001b[39m=\u001b[39;49m\u001b[39m16\u001b[39;49m,sex\u001b[39m=\u001b[39;49m\u001b[39m'\u001b[39;49m\u001b[39mmale\u001b[39;49m\u001b[39m'\u001b[39;49m,gender\u001b[39m=\u001b[39;49m\u001b[39m'\u001b[39;49m\u001b[39mmale\u001b[39;49m\u001b[39m'\u001b[39;49m,color\u001b[39m=\u001b[39;49m\u001b[39m'\u001b[39;49m\u001b[39mwhite\u001b[39;49m\u001b[39m'\u001b[39;49m,name\u001b[39m=\u001b[39;49m\u001b[39m'\u001b[39;49m\u001b[39mwhite asshole\u001b[39;49m\u001b[39m'\u001b[39;49m)\n",
      "File \u001b[1;32mD:\\Wangzhen\\coding\\git\\class\\Person.py:10\u001b[0m, in \u001b[0;36mPerson.__init__\u001b[1;34m(self, name, gender, sex, age, color)\u001b[0m\n\u001b[0;32m      8\u001b[0m \u001b[39mself\u001b[39m\u001b[39m.\u001b[39mage \u001b[39m=\u001b[39m age\n\u001b[0;32m      9\u001b[0m \u001b[39mself\u001b[39m\u001b[39m.\u001b[39mcolor \u001b[39m=\u001b[39m color\n\u001b[1;32m---> 10\u001b[0m \u001b[39mself\u001b[39m\u001b[39m.\u001b[39mbio \u001b[39m=\u001b[39m bio\n",
      "\u001b[1;31mNameError\u001b[0m: name 'bio' is not defined"
     ]
    }
   ],
   "source": [
    "P = p.Person(age=16,sex='male',gender='male',color='white',name='white asshole')\n"
   ]
  }
 ],
 "metadata": {
  "kernelspec": {
   "display_name": "torch",
   "language": "python",
   "name": "python3"
  },
  "language_info": {
   "codemirror_mode": {
    "name": "ipython",
    "version": 3
   },
   "file_extension": ".py",
   "mimetype": "text/x-python",
   "name": "python",
   "nbconvert_exporter": "python",
   "pygments_lexer": "ipython3",
   "version": "3.10.4"
  },
  "orig_nbformat": 4,
  "vscode": {
   "interpreter": {
    "hash": "1bf55c525e6c660468cf25e573d6f58aacf5a92f9fff20961d0db93de47874e7"
   }
  }
 },
 "nbformat": 4,
 "nbformat_minor": 2
}
